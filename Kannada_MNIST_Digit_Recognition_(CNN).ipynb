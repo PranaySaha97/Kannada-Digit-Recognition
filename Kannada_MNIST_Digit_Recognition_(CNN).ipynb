{
  "nbformat": 4,
  "nbformat_minor": 0,
  "metadata": {
    "kernelspec": {
      "language": "python",
      "display_name": "Python 3",
      "name": "python3"
    },
    "language_info": {
      "pygments_lexer": "ipython3",
      "nbconvert_exporter": "python",
      "version": "3.6.4",
      "file_extension": ".py",
      "codemirror_mode": {
        "name": "ipython",
        "version": 3
      },
      "name": "python",
      "mimetype": "text/x-python"
    },
    "colab": {
      "name": "Kannada MNIST Digit Recognition (CNN).ipynb",
      "provenance": []
    }
  },
  "cells": [
    {
      "cell_type": "markdown",
      "metadata": {
        "id": "JkkFSA4_Aq5_",
        "colab_type": "text"
      },
      "source": [
        "# **Kannada Digit Classifier**\n",
        "\n",
        "<strong>Author: </strong>Pranay Saha<br>\n",
        "<strong>Date: </strong>29/09/2019<br>\n",
        "<strong>Algorithm: </strong>CNN<br>"
      ]
    },
    {
      "cell_type": "code",
      "metadata": {
        "_uuid": "8f2839f25d086af736a60e9eeb907d3b93b6e0e5",
        "_cell_guid": "b1076dfc-b9ad-4769-8c92-a6c4dae69d19",
        "trusted": true,
        "id": "gujxGERxg56q",
        "colab_type": "code",
        "outputId": "5db1a1b4-dd73-4d97-ec36-9b966a828142",
        "colab": {
          "base_uri": "https://localhost:8080/",
          "height": 122
        }
      },
      "source": [
        "import numpy as np # linear algebra\n",
        "import pandas as pd # data processing, CSV file I/O (e.g. pd.read_csv)\n",
        "\n",
        "# Load the Drive helper and mount\n",
        "from google.colab import drive\n",
        "\n",
        "# This will prompt for authorization.\n",
        "drive.mount('/content/drive')        \n"
      ],
      "execution_count": 1,
      "outputs": [
        {
          "output_type": "stream",
          "text": [
            "Go to this URL in a browser: https://accounts.google.com/o/oauth2/auth?client_id=947318989803-6bn6qk8qdgf4n4g3pfee6491hc0brc4i.apps.googleusercontent.com&redirect_uri=urn%3Aietf%3Awg%3Aoauth%3A2.0%3Aoob&scope=email%20https%3A%2F%2Fwww.googleapis.com%2Fauth%2Fdocs.test%20https%3A%2F%2Fwww.googleapis.com%2Fauth%2Fdrive%20https%3A%2F%2Fwww.googleapis.com%2Fauth%2Fdrive.photos.readonly%20https%3A%2F%2Fwww.googleapis.com%2Fauth%2Fpeopleapi.readonly&response_type=code\n",
            "\n",
            "Enter your authorization code:\n",
            "··········\n",
            "Mounted at /content/drive\n"
          ],
          "name": "stdout"
        }
      ]
    },
    {
      "cell_type": "code",
      "metadata": {
        "id": "r8sZfUJfiL0j",
        "colab_type": "code",
        "colab": {}
      },
      "source": [
        "my_data_path= \"/content/drive/My Drive/Colab Notebooks/Kannada MNIST Data/\""
      ],
      "execution_count": 0,
      "outputs": []
    },
    {
      "cell_type": "code",
      "metadata": {
        "_uuid": "d629ff2d2480ee46fbb7e2d37f6b5fab8052498a",
        "_cell_guid": "79c7e3d0-c299-4dcb-8224-4455121ee9b0",
        "trusted": true,
        "id": "SKLOP4A-g56v",
        "colab_type": "code",
        "colab": {}
      },
      "source": [
        "train_data= pd.read_csv(my_data_path+'train.csv')\n",
        "test_data= pd.read_csv(my_data_path+'test.csv')"
      ],
      "execution_count": 0,
      "outputs": []
    },
    {
      "cell_type": "code",
      "metadata": {
        "trusted": true,
        "id": "Hi2xRoACg56z",
        "colab_type": "code",
        "outputId": "dda911c0-d18f-4a53-a617-3dc91bde6852",
        "colab": {
          "base_uri": "https://localhost:8080/",
          "height": 374
        }
      },
      "source": [
        "print(train_data.describe(), test_data.describe())"
      ],
      "execution_count": 4,
      "outputs": [
        {
          "output_type": "stream",
          "text": [
            "              label   pixel0   pixel1  ...  pixel781      pixel782  pixel783\n",
            "count  60000.000000  60000.0  60000.0  ...   60000.0  60000.000000   60000.0\n",
            "mean       4.500000      0.0      0.0  ...       0.0      0.002717       0.0\n",
            "std        2.872305      0.0      0.0  ...       0.0      0.665445       0.0\n",
            "min        0.000000      0.0      0.0  ...       0.0      0.000000       0.0\n",
            "25%        2.000000      0.0      0.0  ...       0.0      0.000000       0.0\n",
            "50%        4.500000      0.0      0.0  ...       0.0      0.000000       0.0\n",
            "75%        7.000000      0.0      0.0  ...       0.0      0.000000       0.0\n",
            "max        9.000000      0.0      0.0  ...       0.0    163.000000       0.0\n",
            "\n",
            "[8 rows x 785 columns]                 id  pixel0  pixel1  ...  pixel781  pixel782  pixel783\n",
            "count  5000.000000  5000.0  5000.0  ...    5000.0    5000.0    5000.0\n",
            "mean   2499.500000     0.0     0.0  ...       0.0       0.0       0.0\n",
            "std    1443.520003     0.0     0.0  ...       0.0       0.0       0.0\n",
            "min       0.000000     0.0     0.0  ...       0.0       0.0       0.0\n",
            "25%    1249.750000     0.0     0.0  ...       0.0       0.0       0.0\n",
            "50%    2499.500000     0.0     0.0  ...       0.0       0.0       0.0\n",
            "75%    3749.250000     0.0     0.0  ...       0.0       0.0       0.0\n",
            "max    4999.000000     0.0     0.0  ...       0.0       0.0       0.0\n",
            "\n",
            "[8 rows x 785 columns]\n"
          ],
          "name": "stdout"
        }
      ]
    },
    {
      "cell_type": "code",
      "metadata": {
        "trusted": true,
        "id": "LfE82vxDg562",
        "colab_type": "code",
        "outputId": "61566784-6ff8-4ddc-c84e-51183d600f04",
        "colab": {
          "base_uri": "https://localhost:8080/",
          "height": 51
        }
      },
      "source": [
        "print(\"Training Data Shape: \", train_data.shape)\n",
        "print(\"Test Data Shape: \", test_data.shape)"
      ],
      "execution_count": 5,
      "outputs": [
        {
          "output_type": "stream",
          "text": [
            "Training Data Shape:  (60000, 785)\n",
            "Test Data Shape:  (5000, 785)\n"
          ],
          "name": "stdout"
        }
      ]
    },
    {
      "cell_type": "code",
      "metadata": {
        "trusted": true,
        "id": "JX6hxcTYg565",
        "colab_type": "code",
        "outputId": "24af9f88-6a21-42e3-d9c0-6ad898f28be3",
        "colab": {
          "base_uri": "https://localhost:8080/",
          "height": 221
        }
      },
      "source": [
        "print(\"Training Data Columns: \", train_data.columns)\n",
        "print(\"Test Data Columns: \", test_data.columns)"
      ],
      "execution_count": 6,
      "outputs": [
        {
          "output_type": "stream",
          "text": [
            "Training Data Columns:  Index(['label', 'pixel0', 'pixel1', 'pixel2', 'pixel3', 'pixel4', 'pixel5',\n",
            "       'pixel6', 'pixel7', 'pixel8',\n",
            "       ...\n",
            "       'pixel774', 'pixel775', 'pixel776', 'pixel777', 'pixel778', 'pixel779',\n",
            "       'pixel780', 'pixel781', 'pixel782', 'pixel783'],\n",
            "      dtype='object', length=785)\n",
            "Test Data Columns:  Index(['id', 'pixel0', 'pixel1', 'pixel2', 'pixel3', 'pixel4', 'pixel5',\n",
            "       'pixel6', 'pixel7', 'pixel8',\n",
            "       ...\n",
            "       'pixel774', 'pixel775', 'pixel776', 'pixel777', 'pixel778', 'pixel779',\n",
            "       'pixel780', 'pixel781', 'pixel782', 'pixel783'],\n",
            "      dtype='object', length=785)\n"
          ],
          "name": "stdout"
        }
      ]
    },
    {
      "cell_type": "code",
      "metadata": {
        "trusted": true,
        "id": "jjY88HYbg568",
        "colab_type": "code",
        "colab": {}
      },
      "source": [
        "train_labels= train_data.label.copy()\n",
        "train_data= train_data.drop('label', axis=1)"
      ],
      "execution_count": 0,
      "outputs": []
    },
    {
      "cell_type": "code",
      "metadata": {
        "trusted": true,
        "id": "VAKtpo6qg57A",
        "colab_type": "code",
        "colab": {
          "base_uri": "https://localhost:8080/",
          "height": 136
        },
        "outputId": "5d55597f-f377-4fad-e959-89f5c6849035"
      },
      "source": [
        "print(\"Training Data Columns: \", train_data.columns)\n",
        "print(\"Train Label Columns: \", train_labels.shape)"
      ],
      "execution_count": 8,
      "outputs": [
        {
          "output_type": "stream",
          "text": [
            "Training Data Columns:  Index(['pixel0', 'pixel1', 'pixel2', 'pixel3', 'pixel4', 'pixel5', 'pixel6',\n",
            "       'pixel7', 'pixel8', 'pixel9',\n",
            "       ...\n",
            "       'pixel774', 'pixel775', 'pixel776', 'pixel777', 'pixel778', 'pixel779',\n",
            "       'pixel780', 'pixel781', 'pixel782', 'pixel783'],\n",
            "      dtype='object', length=784)\n",
            "Train Label Columns:  (60000,)\n"
          ],
          "name": "stdout"
        }
      ]
    },
    {
      "cell_type": "code",
      "metadata": {
        "trusted": true,
        "id": "jhDySMJKg57D",
        "colab_type": "code",
        "outputId": "5f07b44c-90de-4802-8f4f-37ccb8055402",
        "colab": {
          "base_uri": "https://localhost:8080/",
          "height": 1000
        }
      },
      "source": [
        "train_labels"
      ],
      "execution_count": 9,
      "outputs": [
        {
          "output_type": "execute_result",
          "data": {
            "text/plain": [
              "0        0\n",
              "1        1\n",
              "2        2\n",
              "3        3\n",
              "4        4\n",
              "5        5\n",
              "6        6\n",
              "7        7\n",
              "8        8\n",
              "9        9\n",
              "10       0\n",
              "11       1\n",
              "12       2\n",
              "13       3\n",
              "14       4\n",
              "15       5\n",
              "16       6\n",
              "17       7\n",
              "18       8\n",
              "19       9\n",
              "20       0\n",
              "21       1\n",
              "22       2\n",
              "23       3\n",
              "24       4\n",
              "25       5\n",
              "26       6\n",
              "27       7\n",
              "28       8\n",
              "29       9\n",
              "        ..\n",
              "59970    0\n",
              "59971    1\n",
              "59972    2\n",
              "59973    3\n",
              "59974    4\n",
              "59975    5\n",
              "59976    6\n",
              "59977    7\n",
              "59978    8\n",
              "59979    9\n",
              "59980    0\n",
              "59981    1\n",
              "59982    2\n",
              "59983    3\n",
              "59984    4\n",
              "59985    5\n",
              "59986    6\n",
              "59987    7\n",
              "59988    8\n",
              "59989    9\n",
              "59990    0\n",
              "59991    1\n",
              "59992    2\n",
              "59993    3\n",
              "59994    4\n",
              "59995    5\n",
              "59996    6\n",
              "59997    7\n",
              "59998    8\n",
              "59999    9\n",
              "Name: label, Length: 60000, dtype: int64"
            ]
          },
          "metadata": {
            "tags": []
          },
          "execution_count": 9
        }
      ]
    },
    {
      "cell_type": "code",
      "metadata": {
        "trusted": true,
        "id": "idWEbQ2yg57G",
        "colab_type": "code",
        "colab": {}
      },
      "source": [
        "# test_data=test_data.drop('id', axis=1)\n"
      ],
      "execution_count": 0,
      "outputs": []
    },
    {
      "cell_type": "code",
      "metadata": {
        "trusted": true,
        "id": "g47Nbhkgg57J",
        "colab_type": "code",
        "colab": {}
      },
      "source": [
        "from sklearn.model_selection import train_test_split\n",
        "\n",
        "X_train, X_test, y_train, y_test= train_test_split(train_data, train_labels, test_size=0.2)\n"
      ],
      "execution_count": 0,
      "outputs": []
    },
    {
      "cell_type": "code",
      "metadata": {
        "trusted": true,
        "id": "X_L-7hQig57L",
        "colab_type": "code",
        "outputId": "4c3cca72-6dbb-427c-b6ed-d2ec7a7d5d3a",
        "colab": {
          "base_uri": "https://localhost:8080/",
          "height": 51
        }
      },
      "source": [
        "print(X_train.shape, X_test.shape)\n",
        "print(y_train.shape, y_test.shape)\n"
      ],
      "execution_count": 11,
      "outputs": [
        {
          "output_type": "stream",
          "text": [
            "(48000, 784) (12000, 784)\n",
            "(48000,) (12000,)\n"
          ],
          "name": "stdout"
        }
      ]
    },
    {
      "cell_type": "code",
      "metadata": {
        "trusted": true,
        "id": "0F1gCSGKg57S",
        "colab_type": "code",
        "colab": {}
      },
      "source": [
        "X_train= X_train.values.reshape(X_train.shape[0], 28, 28, 1)\n",
        "X_test= X_test.values.reshape(X_test.shape[0], 28, 28, 1)"
      ],
      "execution_count": 0,
      "outputs": []
    },
    {
      "cell_type": "code",
      "metadata": {
        "trusted": true,
        "id": "T6Sro_dpg57X",
        "colab_type": "code",
        "colab": {}
      },
      "source": [
        "X_train = X_train.astype('float32')\n",
        "X_train/=255\n",
        "\n",
        "X_test = X_test.astype('float32')\n",
        "X_test/=255"
      ],
      "execution_count": 0,
      "outputs": []
    },
    {
      "cell_type": "code",
      "metadata": {
        "trusted": true,
        "id": "T00KA0kDg57Z",
        "colab_type": "code",
        "colab": {}
      },
      "source": [
        "y_train, y_test = pd.get_dummies(y_train), pd.get_dummies(y_test)\n",
        "y_train = y_train.to_numpy()"
      ],
      "execution_count": 0,
      "outputs": []
    },
    {
      "cell_type": "code",
      "metadata": {
        "trusted": true,
        "id": "A55OtiJ6g57c",
        "colab_type": "code",
        "outputId": "c7b8fb37-f8e0-4592-e3bb-45d58941977c",
        "colab": {
          "base_uri": "https://localhost:8080/",
          "height": 275
        }
      },
      "source": [
        "from keras.models import Sequential\n",
        "from keras.layers import Conv2D, MaxPooling2D, Dense, Dropout, Flatten\n",
        "\n",
        "mod= Sequential()\n",
        "mod.add(Conv2D(32, input_shape=(28,28,1), kernel_size=(3,3), activation='relu'))\n",
        "mod.add(MaxPooling2D(pool_size=(2,2)))\n",
        "mod.add(Dropout(0.25))\n",
        "mod.add(Conv2D(64, input_shape=(28,28,1), kernel_size=(3,3), activation='relu'))\n",
        "mod.add(MaxPooling2D(pool_size=(2,2)))\n",
        "mod.add(Dropout(0.25))\n",
        "mod.add(Conv2D(64, input_shape=(28,28,1), kernel_size=(3,3), activation='relu'))\n",
        "mod.add(MaxPooling2D(pool_size=(2,2)))\n",
        "mod.add(Dropout(0.25))\n",
        "mod.add(Flatten())\n",
        "mod.add(Dense(1000, activation='relu'))\n",
        "mod.add(Dropout(0.5))\n",
        "mod.add(Dense(10, activation='softmax'))\n"
      ],
      "execution_count": 15,
      "outputs": [
        {
          "output_type": "stream",
          "text": [
            "Using TensorFlow backend.\n"
          ],
          "name": "stderr"
        },
        {
          "output_type": "stream",
          "text": [
            "WARNING:tensorflow:From /usr/local/lib/python3.6/dist-packages/keras/backend/tensorflow_backend.py:66: The name tf.get_default_graph is deprecated. Please use tf.compat.v1.get_default_graph instead.\n",
            "\n",
            "WARNING:tensorflow:From /usr/local/lib/python3.6/dist-packages/keras/backend/tensorflow_backend.py:541: The name tf.placeholder is deprecated. Please use tf.compat.v1.placeholder instead.\n",
            "\n",
            "WARNING:tensorflow:From /usr/local/lib/python3.6/dist-packages/keras/backend/tensorflow_backend.py:4432: The name tf.random_uniform is deprecated. Please use tf.random.uniform instead.\n",
            "\n",
            "WARNING:tensorflow:From /usr/local/lib/python3.6/dist-packages/keras/backend/tensorflow_backend.py:4267: The name tf.nn.max_pool is deprecated. Please use tf.nn.max_pool2d instead.\n",
            "\n",
            "WARNING:tensorflow:From /usr/local/lib/python3.6/dist-packages/keras/backend/tensorflow_backend.py:148: The name tf.placeholder_with_default is deprecated. Please use tf.compat.v1.placeholder_with_default instead.\n",
            "\n",
            "WARNING:tensorflow:From /usr/local/lib/python3.6/dist-packages/keras/backend/tensorflow_backend.py:3733: calling dropout (from tensorflow.python.ops.nn_ops) with keep_prob is deprecated and will be removed in a future version.\n",
            "Instructions for updating:\n",
            "Please use `rate` instead of `keep_prob`. Rate should be set to `rate = 1 - keep_prob`.\n"
          ],
          "name": "stdout"
        }
      ]
    },
    {
      "cell_type": "code",
      "metadata": {
        "trusted": true,
        "id": "ElyOL15Dg57e",
        "colab_type": "code",
        "outputId": "e7c1079c-f1a7-43bc-b64e-c5b0cddb5fa3",
        "colab": {
          "base_uri": "https://localhost:8080/",
          "height": 105
        }
      },
      "source": [
        "import keras\n",
        "mod.compile(keras.optimizers.Adam(lr=0.001), loss='categorical_crossentropy', metrics=['accuracy'])"
      ],
      "execution_count": 21,
      "outputs": [
        {
          "output_type": "stream",
          "text": [
            "WARNING:tensorflow:From /usr/local/lib/python3.6/dist-packages/keras/optimizers.py:793: The name tf.train.Optimizer is deprecated. Please use tf.compat.v1.train.Optimizer instead.\n",
            "\n",
            "WARNING:tensorflow:From /usr/local/lib/python3.6/dist-packages/keras/backend/tensorflow_backend.py:3576: The name tf.log is deprecated. Please use tf.math.log instead.\n",
            "\n"
          ],
          "name": "stdout"
        }
      ]
    },
    {
      "cell_type": "code",
      "metadata": {
        "trusted": true,
        "id": "oYUcdoAYg57k",
        "colab_type": "code",
        "outputId": "076963b0-fc46-41f8-ab56-44ddf8d71c64",
        "colab": {
          "base_uri": "https://localhost:8080/",
          "height": 595
        }
      },
      "source": [
        "mod.summary()"
      ],
      "execution_count": 22,
      "outputs": [
        {
          "output_type": "stream",
          "text": [
            "Model: \"sequential_1\"\n",
            "_________________________________________________________________\n",
            "Layer (type)                 Output Shape              Param #   \n",
            "=================================================================\n",
            "conv2d_1 (Conv2D)            (None, 26, 26, 32)        320       \n",
            "_________________________________________________________________\n",
            "max_pooling2d_1 (MaxPooling2 (None, 13, 13, 32)        0         \n",
            "_________________________________________________________________\n",
            "dropout_1 (Dropout)          (None, 13, 13, 32)        0         \n",
            "_________________________________________________________________\n",
            "conv2d_2 (Conv2D)            (None, 11, 11, 64)        18496     \n",
            "_________________________________________________________________\n",
            "max_pooling2d_2 (MaxPooling2 (None, 5, 5, 64)          0         \n",
            "_________________________________________________________________\n",
            "dropout_2 (Dropout)          (None, 5, 5, 64)          0         \n",
            "_________________________________________________________________\n",
            "conv2d_3 (Conv2D)            (None, 3, 3, 64)          36928     \n",
            "_________________________________________________________________\n",
            "max_pooling2d_3 (MaxPooling2 (None, 1, 1, 64)          0         \n",
            "_________________________________________________________________\n",
            "dropout_3 (Dropout)          (None, 1, 1, 64)          0         \n",
            "_________________________________________________________________\n",
            "flatten_1 (Flatten)          (None, 64)                0         \n",
            "_________________________________________________________________\n",
            "dense_1 (Dense)              (None, 1000)              65000     \n",
            "_________________________________________________________________\n",
            "dropout_4 (Dropout)          (None, 1000)              0         \n",
            "_________________________________________________________________\n",
            "dense_2 (Dense)              (None, 10)                10010     \n",
            "=================================================================\n",
            "Total params: 130,754\n",
            "Trainable params: 130,754\n",
            "Non-trainable params: 0\n",
            "_________________________________________________________________\n"
          ],
          "name": "stdout"
        }
      ]
    },
    {
      "cell_type": "code",
      "metadata": {
        "trusted": true,
        "id": "rRFThPFdg57n",
        "colab_type": "code",
        "outputId": "0348b1a8-21e5-4257-ddc6-0ffab2e6e553",
        "colab": {
          "base_uri": "https://localhost:8080/",
          "height": 1000
        }
      },
      "source": [
        "mod.fit(X_train, y_train, epochs=80, validation_data=(X_test, y_test), batch_size=500)"
      ],
      "execution_count": 23,
      "outputs": [
        {
          "output_type": "stream",
          "text": [
            "WARNING:tensorflow:From /usr/local/lib/python3.6/dist-packages/tensorflow/python/ops/math_grad.py:1250: add_dispatch_support.<locals>.wrapper (from tensorflow.python.ops.array_ops) is deprecated and will be removed in a future version.\n",
            "Instructions for updating:\n",
            "Use tf.where in 2.0, which has the same broadcast rule as np.where\n",
            "Train on 48000 samples, validate on 12000 samples\n",
            "Epoch 1/80\n",
            "48000/48000 [==============================] - 43s 902us/step - loss: 0.9507 - acc: 0.6597 - val_loss: 0.2367 - val_acc: 0.9226\n",
            "Epoch 2/80\n",
            "48000/48000 [==============================] - 42s 876us/step - loss: 0.2811 - acc: 0.9014 - val_loss: 0.1361 - val_acc: 0.9534\n",
            "Epoch 3/80\n",
            "48000/48000 [==============================] - 41s 862us/step - loss: 0.1930 - acc: 0.9339 - val_loss: 0.0876 - val_acc: 0.9720\n",
            "Epoch 4/80\n",
            "48000/48000 [==============================] - 42s 873us/step - loss: 0.1498 - acc: 0.9494 - val_loss: 0.0736 - val_acc: 0.9741\n",
            "Epoch 5/80\n",
            "48000/48000 [==============================] - 42s 882us/step - loss: 0.1275 - acc: 0.9572 - val_loss: 0.0638 - val_acc: 0.9802\n",
            "Epoch 6/80\n",
            "48000/48000 [==============================] - 43s 890us/step - loss: 0.1154 - acc: 0.9615 - val_loss: 0.0580 - val_acc: 0.9811\n",
            "Epoch 7/80\n",
            "48000/48000 [==============================] - 42s 879us/step - loss: 0.1052 - acc: 0.9646 - val_loss: 0.0549 - val_acc: 0.9814\n",
            "Epoch 8/80\n",
            "48000/48000 [==============================] - 42s 880us/step - loss: 0.0932 - acc: 0.9684 - val_loss: 0.0521 - val_acc: 0.9830\n",
            "Epoch 9/80\n",
            "48000/48000 [==============================] - 42s 874us/step - loss: 0.0880 - acc: 0.9712 - val_loss: 0.0509 - val_acc: 0.9833\n",
            "Epoch 10/80\n",
            "48000/48000 [==============================] - 42s 872us/step - loss: 0.0819 - acc: 0.9734 - val_loss: 0.0484 - val_acc: 0.9842\n",
            "Epoch 11/80\n",
            "48000/48000 [==============================] - 42s 875us/step - loss: 0.0796 - acc: 0.9736 - val_loss: 0.0437 - val_acc: 0.9865\n",
            "Epoch 12/80\n",
            "48000/48000 [==============================] - 42s 878us/step - loss: 0.0765 - acc: 0.9744 - val_loss: 0.0433 - val_acc: 0.9855\n",
            "Epoch 13/80\n",
            "48000/48000 [==============================] - 42s 885us/step - loss: 0.0710 - acc: 0.9763 - val_loss: 0.0409 - val_acc: 0.9872\n",
            "Epoch 14/80\n",
            "48000/48000 [==============================] - 43s 894us/step - loss: 0.0710 - acc: 0.9768 - val_loss: 0.0423 - val_acc: 0.9870\n",
            "Epoch 15/80\n",
            "48000/48000 [==============================] - 43s 891us/step - loss: 0.0675 - acc: 0.9785 - val_loss: 0.0400 - val_acc: 0.9868\n",
            "Epoch 16/80\n",
            "48000/48000 [==============================] - 41s 864us/step - loss: 0.0651 - acc: 0.9783 - val_loss: 0.0396 - val_acc: 0.9872\n",
            "Epoch 17/80\n",
            "48000/48000 [==============================] - 41s 861us/step - loss: 0.0645 - acc: 0.9779 - val_loss: 0.0408 - val_acc: 0.9874\n",
            "Epoch 18/80\n",
            "48000/48000 [==============================] - 41s 857us/step - loss: 0.0609 - acc: 0.9790 - val_loss: 0.0397 - val_acc: 0.9878\n",
            "Epoch 19/80\n",
            "48000/48000 [==============================] - 42s 875us/step - loss: 0.0602 - acc: 0.9798 - val_loss: 0.0379 - val_acc: 0.9877\n",
            "Epoch 20/80\n",
            "48000/48000 [==============================] - 42s 874us/step - loss: 0.0579 - acc: 0.9808 - val_loss: 0.0375 - val_acc: 0.9881\n",
            "Epoch 21/80\n",
            "48000/48000 [==============================] - 42s 869us/step - loss: 0.0558 - acc: 0.9815 - val_loss: 0.0385 - val_acc: 0.9878\n",
            "Epoch 22/80\n",
            "48000/48000 [==============================] - 42s 870us/step - loss: 0.0569 - acc: 0.9816 - val_loss: 0.0354 - val_acc: 0.9888\n",
            "Epoch 23/80\n",
            "48000/48000 [==============================] - 42s 874us/step - loss: 0.0539 - acc: 0.9819 - val_loss: 0.0353 - val_acc: 0.9888\n",
            "Epoch 24/80\n",
            "48000/48000 [==============================] - 42s 874us/step - loss: 0.0519 - acc: 0.9825 - val_loss: 0.0389 - val_acc: 0.9874\n",
            "Epoch 25/80\n",
            "48000/48000 [==============================] - 42s 879us/step - loss: 0.0536 - acc: 0.9824 - val_loss: 0.0384 - val_acc: 0.9882\n",
            "Epoch 26/80\n",
            "48000/48000 [==============================] - 42s 882us/step - loss: 0.0497 - acc: 0.9831 - val_loss: 0.0352 - val_acc: 0.9890\n",
            "Epoch 27/80\n",
            "48000/48000 [==============================] - 42s 874us/step - loss: 0.0497 - acc: 0.9836 - val_loss: 0.0349 - val_acc: 0.9902\n",
            "Epoch 28/80\n",
            "48000/48000 [==============================] - 42s 881us/step - loss: 0.0470 - acc: 0.9845 - val_loss: 0.0358 - val_acc: 0.9891\n",
            "Epoch 29/80\n",
            "48000/48000 [==============================] - 42s 874us/step - loss: 0.0462 - acc: 0.9844 - val_loss: 0.0327 - val_acc: 0.9901\n",
            "Epoch 30/80\n",
            "48000/48000 [==============================] - 42s 874us/step - loss: 0.0462 - acc: 0.9842 - val_loss: 0.0323 - val_acc: 0.9898\n",
            "Epoch 31/80\n",
            "48000/48000 [==============================] - 42s 877us/step - loss: 0.0451 - acc: 0.9841 - val_loss: 0.0335 - val_acc: 0.9893\n",
            "Epoch 32/80\n",
            "48000/48000 [==============================] - 42s 870us/step - loss: 0.0455 - acc: 0.9850 - val_loss: 0.0333 - val_acc: 0.9901\n",
            "Epoch 33/80\n",
            "48000/48000 [==============================] - 42s 876us/step - loss: 0.0437 - acc: 0.9855 - val_loss: 0.0333 - val_acc: 0.9901\n",
            "Epoch 34/80\n",
            "48000/48000 [==============================] - 42s 870us/step - loss: 0.0419 - acc: 0.9860 - val_loss: 0.0308 - val_acc: 0.9903\n",
            "Epoch 35/80\n",
            "48000/48000 [==============================] - 42s 871us/step - loss: 0.0432 - acc: 0.9853 - val_loss: 0.0342 - val_acc: 0.9890\n",
            "Epoch 36/80\n",
            "48000/48000 [==============================] - 42s 877us/step - loss: 0.0418 - acc: 0.9855 - val_loss: 0.0302 - val_acc: 0.9903\n",
            "Epoch 37/80\n",
            "48000/48000 [==============================] - 42s 875us/step - loss: 0.0423 - acc: 0.9860 - val_loss: 0.0308 - val_acc: 0.9909\n",
            "Epoch 38/80\n",
            "48000/48000 [==============================] - 42s 872us/step - loss: 0.0384 - acc: 0.9869 - val_loss: 0.0316 - val_acc: 0.9910\n",
            "Epoch 39/80\n",
            "48000/48000 [==============================] - 42s 872us/step - loss: 0.0413 - acc: 0.9864 - val_loss: 0.0318 - val_acc: 0.9907\n",
            "Epoch 40/80\n",
            "48000/48000 [==============================] - 42s 875us/step - loss: 0.0400 - acc: 0.9866 - val_loss: 0.0299 - val_acc: 0.9907\n",
            "Epoch 41/80\n",
            "48000/48000 [==============================] - 42s 866us/step - loss: 0.0371 - acc: 0.9871 - val_loss: 0.0318 - val_acc: 0.9905\n",
            "Epoch 42/80\n",
            "48000/48000 [==============================] - 42s 873us/step - loss: 0.0381 - acc: 0.9868 - val_loss: 0.0321 - val_acc: 0.9903\n",
            "Epoch 43/80\n",
            "48000/48000 [==============================] - 42s 875us/step - loss: 0.0377 - acc: 0.9872 - val_loss: 0.0322 - val_acc: 0.9902\n",
            "Epoch 44/80\n",
            "48000/48000 [==============================] - 42s 872us/step - loss: 0.0372 - acc: 0.9878 - val_loss: 0.0300 - val_acc: 0.9906\n",
            "Epoch 45/80\n",
            "48000/48000 [==============================] - 42s 875us/step - loss: 0.0378 - acc: 0.9876 - val_loss: 0.0319 - val_acc: 0.9909\n",
            "Epoch 46/80\n",
            "48000/48000 [==============================] - 42s 878us/step - loss: 0.0369 - acc: 0.9876 - val_loss: 0.0333 - val_acc: 0.9904\n",
            "Epoch 47/80\n",
            "48000/48000 [==============================] - 42s 870us/step - loss: 0.0365 - acc: 0.9876 - val_loss: 0.0325 - val_acc: 0.9901\n",
            "Epoch 48/80\n",
            "48000/48000 [==============================] - 42s 869us/step - loss: 0.0356 - acc: 0.9885 - val_loss: 0.0319 - val_acc: 0.9899\n",
            "Epoch 49/80\n",
            "48000/48000 [==============================] - 42s 868us/step - loss: 0.0341 - acc: 0.9884 - val_loss: 0.0300 - val_acc: 0.9913\n",
            "Epoch 50/80\n",
            "48000/48000 [==============================] - 42s 871us/step - loss: 0.0320 - acc: 0.9888 - val_loss: 0.0334 - val_acc: 0.9894\n",
            "Epoch 51/80\n",
            "48000/48000 [==============================] - 42s 870us/step - loss: 0.0351 - acc: 0.9879 - val_loss: 0.0316 - val_acc: 0.9898\n",
            "Epoch 52/80\n",
            "48000/48000 [==============================] - 42s 867us/step - loss: 0.0340 - acc: 0.9886 - val_loss: 0.0313 - val_acc: 0.9907\n",
            "Epoch 53/80\n",
            "48000/48000 [==============================] - 41s 860us/step - loss: 0.0336 - acc: 0.9885 - val_loss: 0.0313 - val_acc: 0.9910\n",
            "Epoch 54/80\n",
            "48000/48000 [==============================] - 41s 863us/step - loss: 0.0340 - acc: 0.9880 - val_loss: 0.0326 - val_acc: 0.9904\n",
            "Epoch 55/80\n",
            "48000/48000 [==============================] - 41s 858us/step - loss: 0.0324 - acc: 0.9891 - val_loss: 0.0311 - val_acc: 0.9908\n",
            "Epoch 56/80\n",
            "48000/48000 [==============================] - 41s 854us/step - loss: 0.0313 - acc: 0.9890 - val_loss: 0.0304 - val_acc: 0.9907\n",
            "Epoch 57/80\n",
            "48000/48000 [==============================] - 41s 858us/step - loss: 0.0318 - acc: 0.9892 - val_loss: 0.0337 - val_acc: 0.9905\n",
            "Epoch 58/80\n",
            "48000/48000 [==============================] - 41s 864us/step - loss: 0.0312 - acc: 0.9891 - val_loss: 0.0333 - val_acc: 0.9902\n",
            "Epoch 59/80\n",
            "48000/48000 [==============================] - 42s 865us/step - loss: 0.0322 - acc: 0.9895 - val_loss: 0.0339 - val_acc: 0.9901\n",
            "Epoch 60/80\n",
            "48000/48000 [==============================] - 42s 865us/step - loss: 0.0314 - acc: 0.9897 - val_loss: 0.0308 - val_acc: 0.9912\n",
            "Epoch 61/80\n",
            "48000/48000 [==============================] - 42s 871us/step - loss: 0.0300 - acc: 0.9898 - val_loss: 0.0299 - val_acc: 0.9918\n",
            "Epoch 62/80\n",
            "48000/48000 [==============================] - 41s 864us/step - loss: 0.0300 - acc: 0.9897 - val_loss: 0.0315 - val_acc: 0.9917\n",
            "Epoch 63/80\n",
            "48000/48000 [==============================] - 42s 872us/step - loss: 0.0310 - acc: 0.9895 - val_loss: 0.0304 - val_acc: 0.9909\n",
            "Epoch 64/80\n",
            "48000/48000 [==============================] - 42s 867us/step - loss: 0.0315 - acc: 0.9887 - val_loss: 0.0333 - val_acc: 0.9908\n",
            "Epoch 65/80\n",
            "48000/48000 [==============================] - 42s 877us/step - loss: 0.0297 - acc: 0.9896 - val_loss: 0.0306 - val_acc: 0.9911\n",
            "Epoch 66/80\n",
            "48000/48000 [==============================] - 42s 869us/step - loss: 0.0308 - acc: 0.9897 - val_loss: 0.0314 - val_acc: 0.9913\n",
            "Epoch 67/80\n",
            "48000/48000 [==============================] - 41s 859us/step - loss: 0.0290 - acc: 0.9900 - val_loss: 0.0305 - val_acc: 0.9917\n",
            "Epoch 68/80\n",
            "48000/48000 [==============================] - 42s 874us/step - loss: 0.0296 - acc: 0.9897 - val_loss: 0.0320 - val_acc: 0.9911\n",
            "Epoch 69/80\n",
            "48000/48000 [==============================] - 41s 864us/step - loss: 0.0274 - acc: 0.9910 - val_loss: 0.0323 - val_acc: 0.9908\n",
            "Epoch 70/80\n",
            "48000/48000 [==============================] - 41s 861us/step - loss: 0.0297 - acc: 0.9896 - val_loss: 0.0294 - val_acc: 0.9914\n",
            "Epoch 71/80\n",
            "48000/48000 [==============================] - 42s 866us/step - loss: 0.0291 - acc: 0.9903 - val_loss: 0.0302 - val_acc: 0.9913\n",
            "Epoch 72/80\n",
            "48000/48000 [==============================] - 42s 867us/step - loss: 0.0281 - acc: 0.9900 - val_loss: 0.0301 - val_acc: 0.9916\n",
            "Epoch 73/80\n",
            "48000/48000 [==============================] - 41s 862us/step - loss: 0.0294 - acc: 0.9897 - val_loss: 0.0300 - val_acc: 0.9916\n",
            "Epoch 74/80\n",
            "48000/48000 [==============================] - 41s 861us/step - loss: 0.0281 - acc: 0.9904 - val_loss: 0.0331 - val_acc: 0.9902\n",
            "Epoch 75/80\n",
            "48000/48000 [==============================] - 41s 863us/step - loss: 0.0281 - acc: 0.9905 - val_loss: 0.0307 - val_acc: 0.9916\n",
            "Epoch 76/80\n",
            "48000/48000 [==============================] - 41s 865us/step - loss: 0.0283 - acc: 0.9906 - val_loss: 0.0317 - val_acc: 0.9914\n",
            "Epoch 77/80\n",
            "48000/48000 [==============================] - 42s 870us/step - loss: 0.0289 - acc: 0.9905 - val_loss: 0.0312 - val_acc: 0.9910\n",
            "Epoch 78/80\n",
            "48000/48000 [==============================] - 42s 874us/step - loss: 0.0259 - acc: 0.9912 - val_loss: 0.0297 - val_acc: 0.9916\n",
            "Epoch 79/80\n",
            "48000/48000 [==============================] - 42s 872us/step - loss: 0.0272 - acc: 0.9907 - val_loss: 0.0305 - val_acc: 0.9918\n",
            "Epoch 80/80\n",
            "48000/48000 [==============================] - 42s 867us/step - loss: 0.0253 - acc: 0.9914 - val_loss: 0.0318 - val_acc: 0.9908\n"
          ],
          "name": "stdout"
        },
        {
          "output_type": "execute_result",
          "data": {
            "text/plain": [
              "<keras.callbacks.History at 0x7fcfa542c1d0>"
            ]
          },
          "metadata": {
            "tags": []
          },
          "execution_count": 23
        }
      ]
    },
    {
      "cell_type": "code",
      "metadata": {
        "trusted": true,
        "id": "6nhyGaO1g57q",
        "colab_type": "code",
        "colab": {}
      },
      "source": [
        "test_data_id= test_data.id.copy()"
      ],
      "execution_count": 0,
      "outputs": []
    },
    {
      "cell_type": "code",
      "metadata": {
        "id": "Pjn2CIcVvRq6",
        "colab_type": "code",
        "colab": {}
      },
      "source": [
        "test_data=test_data.drop('id',axis=1)"
      ],
      "execution_count": 0,
      "outputs": []
    },
    {
      "cell_type": "code",
      "metadata": {
        "id": "MTqsku2TvcSf",
        "colab_type": "code",
        "colab": {}
      },
      "source": [
        "pred_labels= mod.predict(test_data.values.reshape(test_data.shape[0], 28, 28, 1))"
      ],
      "execution_count": 0,
      "outputs": []
    },
    {
      "cell_type": "code",
      "metadata": {
        "id": "tqpa250uvpPH",
        "colab_type": "code",
        "colab": {}
      },
      "source": [
        "test_data_id['label'] = np.argmax(pred_labels, axis=1)"
      ],
      "execution_count": 0,
      "outputs": []
    },
    {
      "cell_type": "code",
      "metadata": {
        "id": "Q22BOXm9wDtI",
        "colab_type": "code",
        "outputId": "8589ce87-fa5d-4359-f343-c1084d403ca5",
        "colab": {
          "base_uri": "https://localhost:8080/",
          "height": 136
        }
      },
      "source": [
        "sub= test_data_id[['id','label']]"
      ],
      "execution_count": 28,
      "outputs": [
        {
          "output_type": "stream",
          "text": [
            "/usr/local/lib/python3.6/dist-packages/pandas/core/series.py:951: FutureWarning: \n",
            "Passing list-likes to .loc or [] with any missing label will raise\n",
            "KeyError in the future, you can use .reindex() as an alternative.\n",
            "\n",
            "See the documentation here:\n",
            "https://pandas.pydata.org/pandas-docs/stable/indexing.html#deprecate-loc-reindex-listlike\n",
            "  return self.loc[key]\n"
          ],
          "name": "stderr"
        }
      ]
    },
    {
      "cell_type": "code",
      "metadata": {
        "id": "zxa8YkZlwQNg",
        "colab_type": "code",
        "outputId": "4d00a8f0-e8a0-40dd-b539-14bed1d5ebbd",
        "colab": {
          "base_uri": "https://localhost:8080/",
          "height": 68
        }
      },
      "source": [
        "# sub.to_csv(my_data_path+'submission.csv', index=False)\n",
        "print(sub)"
      ],
      "execution_count": 29,
      "outputs": [
        {
          "output_type": "stream",
          "text": [
            "id                                                     NaN\n",
            "label    [3, 0, 2, 6, 7, 7, 1, 9, 3, 4, 8, 8, 1, 7, 8, ...\n",
            "Name: id, dtype: object\n"
          ],
          "name": "stdout"
        }
      ]
    },
    {
      "cell_type": "code",
      "metadata": {
        "id": "e549JQ8Pwnjh",
        "colab_type": "code",
        "colab": {}
      },
      "source": [
        ""
      ],
      "execution_count": 0,
      "outputs": []
    }
  ]
}